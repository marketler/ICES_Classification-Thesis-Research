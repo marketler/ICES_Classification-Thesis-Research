{
 "cells": [
  {
   "cell_type": "code",
   "execution_count": 2,
   "metadata": {},
   "outputs": [],
   "source": [
    "# Import libraries\n",
    "import pandas as pd\n",
    "import numpy as np\n",
    "import os\n",
    "import random\n",
    "import simplekml"
   ]
  },
  {
   "cell_type": "code",
   "execution_count": 6,
   "metadata": {},
   "outputs": [],
   "source": [
    "# Create a kml file of the route of three random acoustic files in the dataset to plot in Google Earth\n",
    "survey_list = ['Data\\\\HERAS', 'Data\\\\IBWSS', 'Data\\\\IESSNS']\n",
    "\n",
    "# Loop over every file present in folder \"Data\\Biotic\"\n",
    "for survey in survey_list:\n",
    "    kml = simplekml.Kml()\n",
    "    filename_1 = random.choice(os.listdir(survey + \"\\\\Acoustic\"))\n",
    "    acoustic_1 = pd.read_csv(survey + \"\\\\Acoustic\\\\\" + filename_1, header=0)\n",
    "    acoustic_1 = acoustic_1.loc[acoustic_1['LogValidity'] == 'V']\n",
    "    acoustic_1 = acoustic_1[['LogTime', 'LogLatitude', 'LogLongitude']]\n",
    "    acoustic_1['LogTime'] = pd.to_datetime(acoustic_1['LogTime'])\n",
    "    acoustic_1 = acoustic_1.drop_duplicates()\n",
    "    acoustic_1.reset_index(inplace=True)\n",
    "    # acoustic_1['position'] = acoustic_1['LogLongitude'].astype(str) + ', ' + acoustic_1['LogLatitude'].astype(str) + ', 1.0'\n",
    "    # acoustic_1_list = acoustic_1['position'].tolist()\n",
    "    # display(acoustic_1_list)\n",
    "\n",
    "    row = 0\n",
    "    route_1 = []\n",
    "    while row < acoustic_1.shape[0]:\n",
    "        position = [acoustic_1['LogLongitude'][row], acoustic_1['LogLatitude'][row], 1.0]\n",
    "        route_1.append(position)\n",
    "        row += 1\n",
    "    \n",
    "    kml.newlinestring(coords=route_1)\n",
    "    kml.save('Data\\ICES_Routes\\Route_' + filename_1 + '.kml')\n",
    "\n"
   ]
  }
 ],
 "metadata": {
  "kernelspec": {
   "display_name": "Python 3.9.6 64-bit",
   "language": "python",
   "name": "python3"
  },
  "language_info": {
   "codemirror_mode": {
    "name": "ipython",
    "version": 3
   },
   "file_extension": ".py",
   "mimetype": "text/x-python",
   "name": "python",
   "nbconvert_exporter": "python",
   "pygments_lexer": "ipython3",
   "version": "3.9.6"
  },
  "orig_nbformat": 4,
  "vscode": {
   "interpreter": {
    "hash": "874c2a62acd9a7afff3e1b8d4bb59a7a6bbfd3a41b83eea45a1078a6d5691637"
   }
  }
 },
 "nbformat": 4,
 "nbformat_minor": 2
}
